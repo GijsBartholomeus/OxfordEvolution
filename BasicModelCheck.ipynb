{
 "cells": [
  {
   "cell_type": "code",
   "execution_count": null,
   "id": "f84c833c",
   "metadata": {},
   "outputs": [],
   "source": [
    "online = 'False'\n",
    "\n",
    "if online == 'False':\n",
    "    print(\"Skipping download of chen2004_biomd56.xml\")\n",
    "else:\n",
    "    import urllib.request\n",
    "\n",
    "    url = \"https://www.ebi.ac.uk/biomodels/model/download/BIOMD0000000056.4?filename=BIOMD0000000056_url.xml\"\n",
    "    urllib.request.urlretrieve(url, \"chen2004_biomd56.xml\")\n",
    "    print(\"Saved model as chen2004_biomd56.xml\")"
   ]
  },
  {
   "cell_type": "code",
   "execution_count": null,
   "id": "b12c04fc",
   "metadata": {},
   "outputs": [],
   "source": [
    "import tellurium as te\n",
    "import matplotlib.pyplot as plt\n",
    "\n",
    "rr = te.loadSBMLModel(\"chen2004_biomd56.xml\")\n",
    "\n",
    "rr.selections = [\"time\"] + rr.getFloatingSpeciesIds()\n",
    "\n",
    "# Simulate 0–200 minutes\n",
    "res = rr.simulate(0, 200, 2001)\n",
    "\n",
    "time = res[:, 0]\n",
    "cols = rr.selections  # now includes all 50 species\n",
    "\n",
    "# Pick targets\n",
    "targets = [\"CLB2\", \"CLN2\", \"SIC1\"]\n",
    "\n",
    "for target in targets:\n",
    "    if target in cols:\n",
    "        idx = cols.index(target)\n",
    "        plt.plot(time, res[:, idx], label=target)\n",
    "\n",
    "plt.xlabel(\"Time (min)\")\n",
    "plt.ylabel(\"Concentration\")\n",
    "plt.title(\"Chen 2004 budding yeast cell cycle model\")\n",
    "plt.legend()\n",
    "plt.show()\n",
    "\n",
    "species = rr.model.getFloatingSpeciesIds()\n",
    "params  = rr.model.getGlobalParameterIds()\n",
    "\n",
    "print(f\"Number of dynamic species: {len(species)}\")\n",
    "print(f\"Number of global parameters: {len(params)}\")\n",
    "\n"
   ]
  }
 ],
 "metadata": {
  "language_info": {
   "name": "python"
  }
 },
 "nbformat": 4,
 "nbformat_minor": 5
}
