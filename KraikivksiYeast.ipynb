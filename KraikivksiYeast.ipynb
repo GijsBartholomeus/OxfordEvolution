{
  "cells": [
    {
      "cell_type": "markdown",
      "metadata": {},
      "source": [
        "# 🧬 Budding Yeast Cell Cycle Model Analysis\n",
        "\n",
        "Simple notebook to run MATLAB simulation and display results.\n",
        "Uses Kraikivski et al. 2015 mathematical model."
      ]
    }
  ],
  "metadata": {
    "kernelspec": {
      "display_name": "bioevo",
      "language": "python",
      "name": "python3"
    },
    "language_info": {
      "name": "python",
      "version": "3.11.13"
    }
  },
  "nbformat": 4,
  "nbformat_minor": 5
}
