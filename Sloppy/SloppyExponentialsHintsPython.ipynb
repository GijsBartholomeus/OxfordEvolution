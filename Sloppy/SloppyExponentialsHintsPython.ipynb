{
 "cells": [
  {
   "cell_type": "markdown",
   "metadata": {},
   "source": []
  },
  {
   "cell_type": "markdown",
   "metadata": {},
   "source": [
    " "
   ]
  },
  {
   "cell_type": "markdown",
   "metadata": {},
   "source": []
  },
  {
   "cell_type": "markdown",
   "metadata": {},
   "source": []
  },
  {
   "cell_type": "code",
   "execution_count": 1,
   "metadata": {},
   "outputs": [
    {
     "name": "stdout",
     "output_type": "stream",
     "text": [
      "Ready.\n"
     ]
    }
   ],
   "source": [
    "# Cell 1 — Setup (install deps)\n",
    "# If you're on Colab, uncomment the next lines.\n",
    "# !pip -q install sbmltoodepy python-libsbml numpy scipy matplotlib\n",
    "\n",
    "import os, io, zipfile, pathlib, textwrap, sys, json\n",
    "import numpy as np\n",
    "import matplotlib.pyplot as plt\n",
    "from urllib.request import urlopen, Request\n",
    "\n",
    "print(\"Ready.\")\n"
   ]
  },
  {
   "cell_type": "code",
   "execution_count": 3,
   "metadata": {},
   "outputs": [
    {
     "name": "stdout",
     "output_type": "stream",
     "text": [
      "Downloaded SBML from:\n",
      "  https://www.ebi.ac.uk/biomodels/services/download/get-files/MODEL6624073334/3/BIOMD0000000056_url.xml\n",
      "→ saved as chen2004_biomd56.xml (208287 bytes)\n"
     ]
    }
   ],
   "source": [
    "# Cell 2 — Robust download of Chen 2004 SBML (BIOMD0000000056)\n",
    "# Tries current BioModels endpoints; falls back to manual if needed.\n",
    "\n",
    "import os, pathlib, sys, time\n",
    "from urllib.request import urlopen, Request\n",
    "from urllib.error import HTTPError, URLError\n",
    "\n",
    "TARGET = \"chen2004_biomd56.xml\"\n",
    "\n",
    "# Known-good endpoints as of 2025-09-20:\n",
    "CANDIDATES = [\n",
    "    # Direct \"services/download\" link for this model's internal ID + version 3\n",
    "    \"https://www.ebi.ac.uk/biomodels/services/download/get-files/MODEL6624073334/3/BIOMD0000000056_url.xml\",\n",
    "    # Generic download endpoint without the (now-retired) .4 suffix\n",
    "    \"https://www.ebi.ac.uk/biomodels/model/download/BIOMD0000000056?filename=BIOMD0000000056_url.xml\",\n",
    "]\n",
    "\n",
    "UA = {\"User-Agent\": \"Mozilla/5.0\"}\n",
    "\n",
    "def try_download(url):\n",
    "    try:\n",
    "        with urlopen(Request(url, headers=UA), timeout=30) as r:\n",
    "            data = r.read()\n",
    "        with open(TARGET, \"wb\") as f:\n",
    "            f.write(data)\n",
    "        print(f\"Downloaded SBML from:\\n  {url}\\n→ saved as {TARGET} ({len(data)} bytes)\")\n",
    "        return True\n",
    "    except HTTPError as e:\n",
    "        print(f\"[HTTP {e.code}] {url}\")\n",
    "    except URLError as e:\n",
    "        print(f\"[URL error] {url} :: {e.reason}\")\n",
    "    except Exception as e:\n",
    "        print(f\"[Other error] {url} :: {e}\")\n",
    "    return False\n",
    "\n",
    "if not os.path.exists(TARGET):\n",
    "    ok = False\n",
    "    for url in CANDIDATES:\n",
    "        if try_download(url):\n",
    "            ok = True\n",
    "            break\n",
    "        time.sleep(0.8)  # polite pause\n",
    "    if not ok:\n",
    "        raise SystemExit(\n",
    "            \"Could not fetch SBML automatically.\\n\"\n",
    "            \"Manual fallback: open the model page in a browser, \"\n",
    "            \"click Files → 'BIOMD0000000056_url.xml' → Download, \"\n",
    "            \"and save it as 'chen2004_biomd56.xml' in this notebook folder.\"\n",
    "        )\n",
    "else:\n",
    "    print(f\"Found existing {TARGET}, reusing it.\")\n",
    "\n"
   ]
  },
  {
   "cell_type": "code",
   "execution_count": 7,
   "metadata": {},
   "outputs": [
    {
     "ename": "ModuleNotFoundError",
     "evalue": "No module named 'sbmltoodepy'",
     "output_type": "error",
     "traceback": [
      "\u001b[0;31m---------------------------------------------------------------------------\u001b[0m",
      "\u001b[0;31mModuleNotFoundError\u001b[0m                       Traceback (most recent call last)",
      "Input \u001b[0;32mIn [7]\u001b[0m, in \u001b[0;36m<cell line: 6>\u001b[0;34m()\u001b[0m\n\u001b[1;32m      1\u001b[0m \u001b[38;5;66;03m# Cell 3 — Convert SBML → pure-Python ODEs using sbmltoodepy\u001b[39;00m\n\u001b[1;32m      2\u001b[0m \u001b[38;5;66;03m# This generates a module with:\u001b[39;00m\n\u001b[1;32m      3\u001b[0m \u001b[38;5;66;03m#   - a class 'Model' exposing state names, parameter dict, initial conditions\u001b[39;00m\n\u001b[1;32m      4\u001b[0m \u001b[38;5;66;03m#   - an ODE RHS function compatible with SciPy\u001b[39;00m\n\u001b[0;32m----> 6\u001b[0m \u001b[38;5;28;01mfrom\u001b[39;00m \u001b[38;5;21;01msbmltoodepy\u001b[39;00m \u001b[38;5;28;01mimport\u001b[39;00m sbml_to_ode\n\u001b[1;32m      8\u001b[0m out_dir \u001b[38;5;241m=\u001b[39m pathlib\u001b[38;5;241m.\u001b[39mPath(\u001b[38;5;124m\"\u001b[39m\u001b[38;5;124mchen_model_py\u001b[39m\u001b[38;5;124m\"\u001b[39m)\n\u001b[1;32m      9\u001b[0m out_dir\u001b[38;5;241m.\u001b[39mmkdir(exist_ok\u001b[38;5;241m=\u001b[39m\u001b[38;5;28;01mTrue\u001b[39;00m)\n",
      "\u001b[0;31mModuleNotFoundError\u001b[0m: No module named 'sbmltoodepy'"
     ]
    }
   ],
   "source": [
    "# Cell 3 — Convert SBML → pure-Python ODEs using sbmltoodepy\n",
    "# This generates a module with:\n",
    "#   - a class 'Model' exposing state names, parameter dict, initial conditions\n",
    "#   - an ODE RHS function compatible with SciPy\n",
    "\n",
    "from sbmltoodepy import sbml_to_ode\n",
    "\n",
    "out_dir = pathlib.Path(\"chen_model_py\")\n",
    "out_dir.mkdir(exist_ok=True)\n",
    "\n",
    "sbml_to_ode.convert(\"chen2004_biomd56.xml\", output_dir=str(out_dir), python_module_name=\"chen2004_model\")\n",
    "\n",
    "print(\"Generated files:\", list(out_dir.iterdir()))\n"
   ]
  },
  {
   "cell_type": "markdown",
   "metadata": {},
   "source": []
  },
  {
   "cell_type": "code",
   "execution_count": 8,
   "metadata": {},
   "outputs": [
    {
     "name": "stdout",
     "output_type": "stream",
     "text": [
      "/opt/anaconda3/bin/python\n"
     ]
    }
   ],
   "source": [
    "!pip install sbmltoodepy python-libsbml"
   ]
  },
  {
   "cell_type": "markdown",
   "metadata": {},
   "source": []
  },
  {
   "cell_type": "code",
   "execution_count": null,
   "metadata": {},
   "outputs": [],
   "source": [
    "# Cell 4 — Inspect the generated model: states, parameters, initial conditions\n",
    "\n",
    "sys.path.insert(0, str(out_dir))\n",
    "import chen2004_model as cm\n",
    "\n",
    "m = cm.Model()  # generated class\n",
    "state_names = m.get_state_names()\n",
    "y0 = m.get_initial_conditions_vector()\n",
    "params = m.get_parameter_dict()\n",
    "\n",
    "print(\"Number of ODEs:\", len(state_names))\n",
    "print(\"First 15 states:\", state_names[:15])\n",
    "print(\"Total parameters:\", len(params))\n",
    "print(\"Example parameters:\", list(params.items())[:10])\n"
   ]
  },
  {
   "cell_type": "code",
   "execution_count": 9,
   "metadata": {},
   "outputs": [
    {
     "name": "stdout",
     "output_type": "stream",
     "text": [
      "Collecting tellurium\n",
      "  Downloading tellurium-2.2.11.1-py3-none-any.whl (128 kB)\n",
      "\u001b[K     |████████████████████████████████| 128 kB 3.2 MB/s eta 0:00:01\n",
      "\u001b[?25hRequirement already satisfied: jupyter-client>=5.1.0 in /opt/anaconda3/lib/python3.8/site-packages (from tellurium) (6.1.12)\n",
      "Collecting python-libsbml>=5.20\n",
      "  Using cached python_libsbml-5.20.5.tar.gz (41.8 MB)\n",
      "Requirement already satisfied: appdirs>=1.4.3 in /opt/anaconda3/lib/python3.8/site-packages (from tellurium) (1.4.4)\n",
      "Requirement already satisfied: ipykernel>=4.6.1 in /opt/anaconda3/lib/python3.8/site-packages (from tellurium) (6.9.1)\n",
      "Requirement already satisfied: plotly>=2.0.12 in /opt/anaconda3/lib/python3.8/site-packages (from tellurium) (5.22.0)\n",
      "Collecting sbml2matlab>=0.9.1\n",
      "  Downloading sbml2matlab-1.2.0-cp38-cp38-macosx_10_9_x86_64.whl (3.1 MB)\n",
      "\u001b[K     |████████████████████████████████| 3.1 MB 33.0 MB/s eta 0:00:01\n",
      "\u001b[?25hRequirement already satisfied: jupyter-core>=4.3.0 in /opt/anaconda3/lib/python3.8/site-packages (from tellurium) (4.9.2)\n",
      "Requirement already satisfied: ipython in /opt/anaconda3/lib/python3.8/site-packages (from tellurium) (8.1.1)\n",
      "Collecting python-libnuml>=1.0.0\n",
      "  Downloading python_libnuml-1.1.7.tar.gz (27.7 MB)\n",
      "\u001b[K     |████████████████████████████████| 27.7 MB 61 kB/s  eta 0:00:01\n",
      "\u001b[?25hCollecting phrasedml>=1.0.9\n",
      "  Downloading phrasedml-1.3.0-py3-none-macosx_10_15_x86_64.whl (3.0 MB)\n",
      "\u001b[K     |████████████████████████████████| 3.0 MB 56.1 MB/s eta 0:00:01\n",
      "\u001b[?25hRequirement already satisfied: jinja2>=3.0.0 in /opt/anaconda3/lib/python3.8/site-packages (from tellurium) (3.1.6)\n",
      "Requirement already satisfied: requests in /opt/anaconda3/lib/python3.8/site-packages (from tellurium) (2.27.1)\n",
      "Requirement already satisfied: scipy>=1.5.1 in /opt/anaconda3/lib/python3.8/site-packages (from tellurium) (1.10.1)\n",
      "Collecting tellurium\n",
      "  Downloading tellurium-2.2.11-py3-none-any.whl (128 kB)\n",
      "\u001b[K     |████████████████████████████████| 128 kB 21.2 MB/s eta 0:00:01\n",
      "\u001b[?25hRequirement already satisfied: pandas>=0.20.2 in /opt/anaconda3/lib/python3.8/site-packages (from tellurium) (1.4.1)\n",
      "Collecting antimony>=2.12.0\n",
      "  Downloading antimony-2.13.2-py3-none-macosx_10_15_x86_64.whl (2.7 MB)\n",
      "\u001b[K     |████████████████████████████████| 2.7 MB 25.7 MB/s eta 0:00:01\n",
      "\u001b[?25hCollecting python-libsedml>=2.0.17\n",
      "  Downloading python_libsedml-2.0.33.tar.gz (46.0 MB)\n",
      "\u001b[K     |████████████████████████████████| 46.0 MB 715 kB/s eta 0:00:011     |██████████████▍                 | 20.6 MB 3.1 MB/s eta 0:00:09\n",
      "\u001b[?25hCollecting python-libcombine>=0.2.2\n",
      "  Downloading python_libcombine-0.2.20-cp38-cp38-macosx_10_9_x86_64.whl (1.9 MB)\n",
      "\u001b[K     |████████████████████████████████| 1.9 MB 5.7 MB/s eta 0:00:01\n",
      "\u001b[?25hRequirement already satisfied: pytest in /opt/anaconda3/lib/python3.8/site-packages (from tellurium) (6.2.5)\n",
      "Collecting libroadrunner>=2.1\n",
      "  Downloading libroadrunner-2.2.2-cp38-cp38-macosx_10_15_x86_64.whl (70.1 MB)\n",
      "\u001b[K     |████████████████████████████████| 70.1 MB 115 kB/s eta 0:00:01     |████████████████████████▌       | 53.6 MB 211 kB/s eta 0:01:19\n",
      "\u001b[?25hRequirement already satisfied: matplotlib>=2.0.2 in /opt/anaconda3/lib/python3.8/site-packages (from tellurium) (3.5.1)\n",
      "Collecting numpy>=1.23\n",
      "  Using cached numpy-1.24.4-cp38-cp38-macosx_10_9_x86_64.whl (19.8 MB)\n",
      "Requirement already satisfied: matplotlib-inline<0.2.0,>=0.1.0 in /opt/anaconda3/lib/python3.8/site-packages (from ipykernel>=4.6.1->tellurium) (0.1.2)\n",
      "Requirement already satisfied: tornado<7.0,>=4.2 in /opt/anaconda3/lib/python3.8/site-packages (from ipykernel>=4.6.1->tellurium) (6.1)\n",
      "Requirement already satisfied: nest-asyncio in /opt/anaconda3/lib/python3.8/site-packages (from ipykernel>=4.6.1->tellurium) (1.5.1)\n",
      "Requirement already satisfied: traitlets<6.0,>=5.1.0 in /opt/anaconda3/lib/python3.8/site-packages (from ipykernel>=4.6.1->tellurium) (5.1.1)\n",
      "Requirement already satisfied: debugpy<2.0,>=1.0.0 in /opt/anaconda3/lib/python3.8/site-packages (from ipykernel>=4.6.1->tellurium) (1.5.1)\n",
      "Requirement already satisfied: appnope in /opt/anaconda3/lib/python3.8/site-packages (from ipykernel>=4.6.1->tellurium) (0.1.2)\n",
      "Requirement already satisfied: pickleshare in /opt/anaconda3/lib/python3.8/site-packages (from ipython->tellurium) (0.7.5)\n",
      "Requirement already satisfied: jedi>=0.16 in /opt/anaconda3/lib/python3.8/site-packages (from ipython->tellurium) (0.18.1)\n",
      "Requirement already satisfied: setuptools>=18.5 in /opt/anaconda3/lib/python3.8/site-packages (from ipython->tellurium) (58.0.4)\n",
      "Requirement already satisfied: stack-data in /opt/anaconda3/lib/python3.8/site-packages (from ipython->tellurium) (0.2.0)\n",
      "Requirement already satisfied: pygments>=2.4.0 in /opt/anaconda3/lib/python3.8/site-packages (from ipython->tellurium) (2.11.2)\n",
      "Requirement already satisfied: pexpect>4.3 in /opt/anaconda3/lib/python3.8/site-packages (from ipython->tellurium) (4.8.0)\n",
      "Requirement already satisfied: prompt-toolkit!=3.0.0,!=3.0.1,<3.1.0,>=2.0.0 in /opt/anaconda3/lib/python3.8/site-packages (from ipython->tellurium) (3.0.20)\n",
      "Requirement already satisfied: decorator in /opt/anaconda3/lib/python3.8/site-packages (from ipython->tellurium) (5.1.1)\n",
      "Requirement already satisfied: backcall in /opt/anaconda3/lib/python3.8/site-packages (from ipython->tellurium) (0.2.0)\n",
      "Requirement already satisfied: parso<0.9.0,>=0.8.0 in /opt/anaconda3/lib/python3.8/site-packages (from jedi>=0.16->ipython->tellurium) (0.8.3)\n",
      "Requirement already satisfied: MarkupSafe>=2.0 in /opt/anaconda3/lib/python3.8/site-packages (from jinja2>=3.0.0->tellurium) (2.1.5)\n",
      "Requirement already satisfied: pyzmq>=13 in /opt/anaconda3/lib/python3.8/site-packages (from jupyter-client>=5.1.0->tellurium) (22.3.0)\n",
      "Requirement already satisfied: python-dateutil>=2.1 in /opt/anaconda3/lib/python3.8/site-packages (from jupyter-client>=5.1.0->tellurium) (2.8.2)\n",
      "Requirement already satisfied: fonttools>=4.22.0 in /opt/anaconda3/lib/python3.8/site-packages (from matplotlib>=2.0.2->tellurium) (4.25.0)\n",
      "Requirement already satisfied: packaging>=20.0 in /opt/anaconda3/lib/python3.8/site-packages (from matplotlib>=2.0.2->tellurium) (21.3)\n",
      "Requirement already satisfied: cycler>=0.10 in /opt/anaconda3/lib/python3.8/site-packages (from matplotlib>=2.0.2->tellurium) (0.11.0)\n",
      "Requirement already satisfied: pillow>=6.2.0 in /opt/anaconda3/lib/python3.8/site-packages (from matplotlib>=2.0.2->tellurium) (9.0.1)\n",
      "Requirement already satisfied: kiwisolver>=1.0.1 in /opt/anaconda3/lib/python3.8/site-packages (from matplotlib>=2.0.2->tellurium) (1.3.2)\n",
      "Requirement already satisfied: pyparsing>=2.2.1 in /opt/anaconda3/lib/python3.8/site-packages (from matplotlib>=2.0.2->tellurium) (3.0.4)\n",
      "Requirement already satisfied: pytz>=2020.1 in /opt/anaconda3/lib/python3.8/site-packages (from pandas>=0.20.2->tellurium) (2021.3)\n",
      "Requirement already satisfied: ptyprocess>=0.5 in /opt/anaconda3/lib/python3.8/site-packages (from pexpect>4.3->ipython->tellurium) (0.7.0)\n",
      "Requirement already satisfied: tenacity>=6.2.0 in /opt/anaconda3/lib/python3.8/site-packages (from plotly>=2.0.12->tellurium) (8.4.1)\n",
      "Requirement already satisfied: wcwidth in /opt/anaconda3/lib/python3.8/site-packages (from prompt-toolkit!=3.0.0,!=3.0.1,<3.1.0,>=2.0.0->ipython->tellurium) (0.2.5)\n",
      "Requirement already satisfied: six>=1.5 in /opt/anaconda3/lib/python3.8/site-packages (from python-dateutil>=2.1->jupyter-client>=5.1.0->tellurium) (1.16.0)\n",
      "Requirement already satisfied: attrs>=19.2.0 in /opt/anaconda3/lib/python3.8/site-packages (from pytest->tellurium) (21.4.0)\n",
      "Requirement already satisfied: iniconfig in /opt/anaconda3/lib/python3.8/site-packages (from pytest->tellurium) (1.1.1)\n",
      "Requirement already satisfied: pluggy<2.0,>=0.12 in /opt/anaconda3/lib/python3.8/site-packages (from pytest->tellurium) (1.0.0)\n",
      "Requirement already satisfied: py>=1.8.2 in /opt/anaconda3/lib/python3.8/site-packages (from pytest->tellurium) (1.11.0)\n",
      "Requirement already satisfied: toml in /opt/anaconda3/lib/python3.8/site-packages (from pytest->tellurium) (0.10.2)\n",
      "Requirement already satisfied: urllib3<1.27,>=1.21.1 in /opt/anaconda3/lib/python3.8/site-packages (from requests->tellurium) (1.26.8)\n",
      "Requirement already satisfied: idna<4,>=2.5 in /opt/anaconda3/lib/python3.8/site-packages (from requests->tellurium) (3.3)\n",
      "Requirement already satisfied: charset-normalizer~=2.0.0 in /opt/anaconda3/lib/python3.8/site-packages (from requests->tellurium) (2.0.4)\n",
      "Requirement already satisfied: certifi>=2017.4.17 in /opt/anaconda3/lib/python3.8/site-packages (from requests->tellurium) (2021.10.8)\n"
     ]
    },
    {
     "name": "stdout",
     "output_type": "stream",
     "text": [
      "Requirement already satisfied: asttokens in /opt/anaconda3/lib/python3.8/site-packages (from stack-data->ipython->tellurium) (2.0.5)\n",
      "Requirement already satisfied: pure-eval in /opt/anaconda3/lib/python3.8/site-packages (from stack-data->ipython->tellurium) (0.2.2)\n",
      "Requirement already satisfied: executing in /opt/anaconda3/lib/python3.8/site-packages (from stack-data->ipython->tellurium) (0.8.3)\n",
      "Building wheels for collected packages: python-libnuml, python-libsbml, python-libsedml\n",
      "  Building wheel for python-libnuml (setup.py) ... \u001b[?25lerror\n",
      "\u001b[31m  ERROR: Command errored out with exit status 1:\n",
      "   command: /opt/anaconda3/bin/python -u -c 'import io, os, sys, setuptools, tokenize; sys.argv[0] = '\"'\"'/private/var/folders/dg/j3xfsm6j68s_0jk_l6mqmh_h0000gn/T/pip-install-9z8en92h/python-libnuml_035b8f9641514c998a459e83cb22c1e6/setup.py'\"'\"'; __file__='\"'\"'/private/var/folders/dg/j3xfsm6j68s_0jk_l6mqmh_h0000gn/T/pip-install-9z8en92h/python-libnuml_035b8f9641514c998a459e83cb22c1e6/setup.py'\"'\"';f = getattr(tokenize, '\"'\"'open'\"'\"', open)(__file__) if os.path.exists(__file__) else io.StringIO('\"'\"'from setuptools import setup; setup()'\"'\"');code = f.read().replace('\"'\"'\\r\\n'\"'\"', '\"'\"'\\n'\"'\"');f.close();exec(compile(code, __file__, '\"'\"'exec'\"'\"'))' bdist_wheel -d /private/var/folders/dg/j3xfsm6j68s_0jk_l6mqmh_h0000gn/T/pip-wheel-5hdhqu8t\n",
      "       cwd: /private/var/folders/dg/j3xfsm6j68s_0jk_l6mqmh_h0000gn/T/pip-install-9z8en92h/python-libnuml_035b8f9641514c998a459e83cb22c1e6/\n",
      "  Complete output (24 lines):\n",
      "  Using libNuML from: /private/var/folders/dg/j3xfsm6j68s_0jk_l6mqmh_h0000gn/T/pip-install-9z8en92h/python-libnuml_035b8f9641514c998a459e83cb22c1e6\n",
      "  Using VERSION.txt: /private/var/folders/dg/j3xfsm6j68s_0jk_l6mqmh_h0000gn/T/pip-install-9z8en92h/python-libnuml_035b8f9641514c998a459e83cb22c1e6/VERSION.txt\n",
      "  Version is: 1.1.7\n",
      "  building for python: 3.8.8 (default, Apr 13 2021, 12:59:45)\n",
      "  [Clang 10.0.0 ]\n",
      "  running bdist_wheel\n",
      "  running build\n",
      "  running build_py\n",
      "  package init file 'libnuml/__init__.py' not found (or not a regular file)\n",
      "  running build_ext\n",
      "  name: _libnuml.cpython-38-darwin.so\n",
      "  build temp: build/temp.macosx-10.9-x86_64-3.8\n",
      "  extension name: _libnuml\n",
      "  extension dir: build/lib.macosx-10.9-x86_64-3.8/libnuml/_libnuml.cpython-38-darwin.so\n",
      "  target_dir_path: /private/var/folders/dg/j3xfsm6j68s_0jk_l6mqmh_h0000gn/T/pip-install-9z8en92h/python-libnuml_035b8f9641514c998a459e83cb22c1e6/build/lib.macosx-10.9-x86_64-3.8/libnuml\n",
      "  target_lib_path: /private/var/folders/dg/j3xfsm6j68s_0jk_l6mqmh_h0000gn/T/pip-install-9z8en92h/python-libnuml_035b8f9641514c998a459e83cb22c1e6/build/lib.macosx-10.9-x86_64-3.8/libnuml/_libnuml.cpython-38-darwin.so\n",
      "  suffix: macosx-10.9-x86_64-3.8\n",
      "  cwd: /private/var/folders/dg/j3xfsm6j68s_0jk_l6mqmh_h0000gn/T/pip-install-9z8en92h/python-libnuml_035b8f9641514c998a459e83cb22c1e6\n",
      "  name: _libnuml.cpython-38-darwin.so, tmp: build/temp.macosx-10.9-x86_64-3.8\n",
      "  compiling dependencies\n",
      "  compiling libSBML dependencies from: /private/var/folders/dg/j3xfsm6j68s_0jk_l6mqmh_h0000gn/T/pip-install-9z8en92h/python-libnuml_035b8f9641514c998a459e83cb22c1e6/submodules/libSBML-dependencies\n",
      "  cmake /private/var/folders/dg/j3xfsm6j68s_0jk_l6mqmh_h0000gn/T/pip-install-9z8en92h/python-libnuml_035b8f9641514c998a459e83cb22c1e6/submodules/libSBML-dependencies -DCMAKE_BUILD_TYPE=Release -DCMAKE_OSX_ARCHITECTURES=x86_64 -DCMAKE_INSTALL_PREFIX=/private/var/folders/dg/j3xfsm6j68s_0jk_l6mqmh_h0000gn/T/pip-install-9z8en92h/python-libnuml_035b8f9641514c998a459e83cb22c1e6/install_dependencies_macosx-10.9-x86_64 -DWITH_BZIP2=OFF -DWITH_CHECK=OFF -DWITH_EXPAT=ON -DWITH_XERCES=OFF -DWITH_ICONV=OFF -DWITH_LIBXML=OFF\n",
      "  unable to execute 'cmake': No such file or directory\n",
      "  error: command 'cmake' failed with exit status 1\n",
      "  ----------------------------------------\u001b[0m\n",
      "\u001b[31m  ERROR: Failed building wheel for python-libnuml\u001b[0m\n",
      "\u001b[?25h  Running setup.py clean for python-libnuml\n",
      "  Building wheel for python-libsbml (setup.py) ... \u001b[?25lerror\n",
      "\u001b[31m  ERROR: Command errored out with exit status 1:\n",
      "   command: /opt/anaconda3/bin/python -u -c 'import io, os, sys, setuptools, tokenize; sys.argv[0] = '\"'\"'/private/var/folders/dg/j3xfsm6j68s_0jk_l6mqmh_h0000gn/T/pip-install-9z8en92h/python-libsbml_b01bf90f59834c0d804e28d14bdb4ff7/setup.py'\"'\"'; __file__='\"'\"'/private/var/folders/dg/j3xfsm6j68s_0jk_l6mqmh_h0000gn/T/pip-install-9z8en92h/python-libsbml_b01bf90f59834c0d804e28d14bdb4ff7/setup.py'\"'\"';f = getattr(tokenize, '\"'\"'open'\"'\"', open)(__file__) if os.path.exists(__file__) else io.StringIO('\"'\"'from setuptools import setup; setup()'\"'\"');code = f.read().replace('\"'\"'\\r\\n'\"'\"', '\"'\"'\\n'\"'\"');f.close();exec(compile(code, __file__, '\"'\"'exec'\"'\"'))' bdist_wheel -d /private/var/folders/dg/j3xfsm6j68s_0jk_l6mqmh_h0000gn/T/pip-wheel-347rdnvq\n",
      "       cwd: /private/var/folders/dg/j3xfsm6j68s_0jk_l6mqmh_h0000gn/T/pip-install-9z8en92h/python-libsbml_b01bf90f59834c0d804e28d14bdb4ff7/\n",
      "  Complete output (24 lines):\n",
      "  Using libSBML from: /private/var/folders/dg/j3xfsm6j68s_0jk_l6mqmh_h0000gn/T/pip-install-9z8en92h/python-libsbml_b01bf90f59834c0d804e28d14bdb4ff7/libsbml_source\n",
      "  Using VERSION.txt: /private/var/folders/dg/j3xfsm6j68s_0jk_l6mqmh_h0000gn/T/pip-install-9z8en92h/python-libsbml_b01bf90f59834c0d804e28d14bdb4ff7/libsbml_source/VERSION.txt\n",
      "  Creating: python-libsbml\n",
      "  Version is: 5.20.5\n",
      "  building for python: 3.8.8 (default, Apr 13 2021, 12:59:45)\n",
      "  [Clang 10.0.0 ]\n",
      "  running bdist_wheel\n",
      "  running build\n",
      "  running build_py\n",
      "  package init file 'libsbml/__init__.py' not found (or not a regular file)\n",
      "  running build_ext\n",
      "  name: _libsbml.cpython-38-darwin.so\n",
      "  build temp: build/temp.macosx-10.9-x86_64-3.8\n",
      "  extension name: _libsbml\n",
      "  extension dir: build/lib.macosx-10.9-x86_64-3.8/libsbml/_libsbml.cpython-38-darwin.so\n",
      "  target_dir_path: /private/var/folders/dg/j3xfsm6j68s_0jk_l6mqmh_h0000gn/T/pip-install-9z8en92h/python-libsbml_b01bf90f59834c0d804e28d14bdb4ff7/build/lib.macosx-10.9-x86_64-3.8/libsbml\n",
      "  target_lib_path: /private/var/folders/dg/j3xfsm6j68s_0jk_l6mqmh_h0000gn/T/pip-install-9z8en92h/python-libsbml_b01bf90f59834c0d804e28d14bdb4ff7/build/lib.macosx-10.9-x86_64-3.8/libsbml/_libsbml.cpython-38-darwin.so\n",
      "  suffix: macosx-10.9-x86_64-3.8\n",
      "  cwd: /private/var/folders/dg/j3xfsm6j68s_0jk_l6mqmh_h0000gn/T/pip-install-9z8en92h/python-libsbml_b01bf90f59834c0d804e28d14bdb4ff7\n",
      "  name: _libsbml.cpython-38-darwin.so, tmp: build/temp.macosx-10.9-x86_64-3.8\n",
      "  compiling dependencies\n",
      "  cmake /private/var/folders/dg/j3xfsm6j68s_0jk_l6mqmh_h0000gn/T/pip-install-9z8en92h/python-libsbml_b01bf90f59834c0d804e28d14bdb4ff7/libsbml_dependencies -DCMAKE_BUILD_TYPE=Release -DWITH_STATIC_RUNTIME=ON -DCMAKE_OSX_ARCHITECTURES=x86_64 -DCMAKE_INSTALL_PREFIX=/private/var/folders/dg/j3xfsm6j68s_0jk_l6mqmh_h0000gn/T/pip-install-9z8en92h/python-libsbml_b01bf90f59834c0d804e28d14bdb4ff7/install_dependencies_macosx-10.9-x86_64 -DWITH_BZIP2=ON -DWITH_CHECK=OFF -DWITH_EXPAT=ON -DWITH_XERCES=OFF -DWITH_ICONV=OFF -DWITH_LIBXML=OFF\n",
      "  unable to execute 'cmake': No such file or directory\n",
      "  error: command 'cmake' failed with exit status 1\n",
      "  ----------------------------------------\u001b[0m\n",
      "\u001b[31m  ERROR: Failed building wheel for python-libsbml\u001b[0m\n",
      "\u001b[?25h  Running setup.py clean for python-libsbml\n",
      "  Building wheel for python-libsedml (setup.py) ... \u001b[?25lerror\n",
      "\u001b[31m  ERROR: Command errored out with exit status 1:\n",
      "   command: /opt/anaconda3/bin/python -u -c 'import io, os, sys, setuptools, tokenize; sys.argv[0] = '\"'\"'/private/var/folders/dg/j3xfsm6j68s_0jk_l6mqmh_h0000gn/T/pip-install-9z8en92h/python-libsedml_aaab0abfffd24219bdc012bcef85aa49/setup.py'\"'\"'; __file__='\"'\"'/private/var/folders/dg/j3xfsm6j68s_0jk_l6mqmh_h0000gn/T/pip-install-9z8en92h/python-libsedml_aaab0abfffd24219bdc012bcef85aa49/setup.py'\"'\"';f = getattr(tokenize, '\"'\"'open'\"'\"', open)(__file__) if os.path.exists(__file__) else io.StringIO('\"'\"'from setuptools import setup; setup()'\"'\"');code = f.read().replace('\"'\"'\\r\\n'\"'\"', '\"'\"'\\n'\"'\"');f.close();exec(compile(code, __file__, '\"'\"'exec'\"'\"'))' bdist_wheel -d /private/var/folders/dg/j3xfsm6j68s_0jk_l6mqmh_h0000gn/T/pip-wheel-y7zgr1uq\n",
      "       cwd: /private/var/folders/dg/j3xfsm6j68s_0jk_l6mqmh_h0000gn/T/pip-install-9z8en92h/python-libsedml_aaab0abfffd24219bdc012bcef85aa49/\n",
      "  Complete output (24 lines):\n",
      "  Using libSedML from: /private/var/folders/dg/j3xfsm6j68s_0jk_l6mqmh_h0000gn/T/pip-install-9z8en92h/python-libsedml_aaab0abfffd24219bdc012bcef85aa49\n",
      "  Using VERSION.txt: /private/var/folders/dg/j3xfsm6j68s_0jk_l6mqmh_h0000gn/T/pip-install-9z8en92h/python-libsedml_aaab0abfffd24219bdc012bcef85aa49/VERSION.txt\n",
      "  Version is: 2.0.33\n",
      "  building for python: 3.8.8 (default, Apr 13 2021, 12:59:45)\n",
      "  [Clang 10.0.0 ]\n",
      "  running bdist_wheel\n",
      "  running build\n",
      "  running build_py\n",
      "  package init file 'libsedml/__init__.py' not found (or not a regular file)\n",
      "  running build_ext\n",
      "  name: _libsedml.cpython-38-darwin.so\n",
      "  build temp: build/temp.macosx-10.9-x86_64-3.8\n",
      "  extension name: _libsedml\n",
      "  extension dir: build/lib.macosx-10.9-x86_64-3.8/libsedml/_libsedml.cpython-38-darwin.so\n",
      "  target_dir_path: /private/var/folders/dg/j3xfsm6j68s_0jk_l6mqmh_h0000gn/T/pip-install-9z8en92h/python-libsedml_aaab0abfffd24219bdc012bcef85aa49/build/lib.macosx-10.9-x86_64-3.8/libsedml\n",
      "  target_lib_path: /private/var/folders/dg/j3xfsm6j68s_0jk_l6mqmh_h0000gn/T/pip-install-9z8en92h/python-libsedml_aaab0abfffd24219bdc012bcef85aa49/build/lib.macosx-10.9-x86_64-3.8/libsedml/_libsedml.cpython-38-darwin.so\n",
      "  suffix: macosx-10.9-x86_64-3.8\n",
      "  cwd: /private/var/folders/dg/j3xfsm6j68s_0jk_l6mqmh_h0000gn/T/pip-install-9z8en92h/python-libsedml_aaab0abfffd24219bdc012bcef85aa49\n",
      "  name: _libsedml.cpython-38-darwin.so, tmp: build/temp.macosx-10.9-x86_64-3.8\n",
      "  compiling dependencies\n",
      "  compiling libSBML dependencies from: /private/var/folders/dg/j3xfsm6j68s_0jk_l6mqmh_h0000gn/T/pip-install-9z8en92h/python-libsedml_aaab0abfffd24219bdc012bcef85aa49/submodules/libSBML-dependencies\n",
      "  cmake /private/var/folders/dg/j3xfsm6j68s_0jk_l6mqmh_h0000gn/T/pip-install-9z8en92h/python-libsedml_aaab0abfffd24219bdc012bcef85aa49/submodules/libSBML-dependencies -DCMAKE_BUILD_TYPE=Release -DCMAKE_OSX_ARCHITECTURES=x86_64 -DCMAKE_INSTALL_PREFIX=/private/var/folders/dg/j3xfsm6j68s_0jk_l6mqmh_h0000gn/T/pip-install-9z8en92h/python-libsedml_aaab0abfffd24219bdc012bcef85aa49/install_dependencies_macosx-10.9-x86_64 -DWITH_BZIP2=OFF -DWITH_CHECK=OFF -DWITH_EXPAT=ON -DWITH_XERCES=OFF -DWITH_ICONV=OFF -DWITH_LIBXML=OFF\n",
      "  unable to execute 'cmake': No such file or directory\n",
      "  error: command 'cmake' failed with exit status 1\n",
      "  ----------------------------------------\u001b[0m\n",
      "\u001b[31m  ERROR: Failed building wheel for python-libsedml\u001b[0m\n",
      "\u001b[?25h  Running setup.py clean for python-libsedml\n"
     ]
    },
    {
     "name": "stdout",
     "output_type": "stream",
     "text": [
      "Failed to build python-libnuml python-libsbml python-libsedml\n",
      "Installing collected packages: numpy, sbml2matlab, python-libsedml, python-libsbml, python-libnuml, python-libcombine, phrasedml, libroadrunner, antimony, tellurium\n",
      "  Attempting uninstall: numpy\n",
      "    Found existing installation: numpy 1.22.4\n",
      "    Uninstalling numpy-1.22.4:\n",
      "      Successfully uninstalled numpy-1.22.4\n",
      "    Running setup.py install for python-libsedml ... \u001b[?25lerror\n",
      "\u001b[31m    ERROR: Command errored out with exit status 1:\n",
      "     command: /opt/anaconda3/bin/python -u -c 'import io, os, sys, setuptools, tokenize; sys.argv[0] = '\"'\"'/private/var/folders/dg/j3xfsm6j68s_0jk_l6mqmh_h0000gn/T/pip-install-9z8en92h/python-libsedml_aaab0abfffd24219bdc012bcef85aa49/setup.py'\"'\"'; __file__='\"'\"'/private/var/folders/dg/j3xfsm6j68s_0jk_l6mqmh_h0000gn/T/pip-install-9z8en92h/python-libsedml_aaab0abfffd24219bdc012bcef85aa49/setup.py'\"'\"';f = getattr(tokenize, '\"'\"'open'\"'\"', open)(__file__) if os.path.exists(__file__) else io.StringIO('\"'\"'from setuptools import setup; setup()'\"'\"');code = f.read().replace('\"'\"'\\r\\n'\"'\"', '\"'\"'\\n'\"'\"');f.close();exec(compile(code, __file__, '\"'\"'exec'\"'\"'))' install --record /private/var/folders/dg/j3xfsm6j68s_0jk_l6mqmh_h0000gn/T/pip-record-g_6p5t0y/install-record.txt --single-version-externally-managed --compile --install-headers /opt/anaconda3/include/python3.8/python-libsedml\n",
      "         cwd: /private/var/folders/dg/j3xfsm6j68s_0jk_l6mqmh_h0000gn/T/pip-install-9z8en92h/python-libsedml_aaab0abfffd24219bdc012bcef85aa49/\n",
      "    Complete output (24 lines):\n",
      "    Using libSedML from: /private/var/folders/dg/j3xfsm6j68s_0jk_l6mqmh_h0000gn/T/pip-install-9z8en92h/python-libsedml_aaab0abfffd24219bdc012bcef85aa49\n",
      "    Using VERSION.txt: /private/var/folders/dg/j3xfsm6j68s_0jk_l6mqmh_h0000gn/T/pip-install-9z8en92h/python-libsedml_aaab0abfffd24219bdc012bcef85aa49/VERSION.txt\n",
      "    Version is: 2.0.33\n",
      "    building for python: 3.8.8 (default, Apr 13 2021, 12:59:45)\n",
      "    [Clang 10.0.0 ]\n",
      "    running install\n",
      "    running build\n",
      "    running build_py\n",
      "    package init file 'libsedml/__init__.py' not found (or not a regular file)\n",
      "    running build_ext\n",
      "    name: _libsedml.cpython-38-darwin.so\n",
      "    build temp: build/temp.macosx-10.9-x86_64-3.8\n",
      "    extension name: _libsedml\n",
      "    extension dir: build/lib.macosx-10.9-x86_64-3.8/libsedml/_libsedml.cpython-38-darwin.so\n",
      "    target_dir_path: /private/var/folders/dg/j3xfsm6j68s_0jk_l6mqmh_h0000gn/T/pip-install-9z8en92h/python-libsedml_aaab0abfffd24219bdc012bcef85aa49/build/lib.macosx-10.9-x86_64-3.8/libsedml\n",
      "    target_lib_path: /private/var/folders/dg/j3xfsm6j68s_0jk_l6mqmh_h0000gn/T/pip-install-9z8en92h/python-libsedml_aaab0abfffd24219bdc012bcef85aa49/build/lib.macosx-10.9-x86_64-3.8/libsedml/_libsedml.cpython-38-darwin.so\n",
      "    suffix: macosx-10.9-x86_64-3.8\n",
      "    cwd: /private/var/folders/dg/j3xfsm6j68s_0jk_l6mqmh_h0000gn/T/pip-install-9z8en92h/python-libsedml_aaab0abfffd24219bdc012bcef85aa49\n",
      "    name: _libsedml.cpython-38-darwin.so, tmp: build/temp.macosx-10.9-x86_64-3.8\n",
      "    compiling dependencies\n",
      "    compiling libSBML dependencies from: /private/var/folders/dg/j3xfsm6j68s_0jk_l6mqmh_h0000gn/T/pip-install-9z8en92h/python-libsedml_aaab0abfffd24219bdc012bcef85aa49/submodules/libSBML-dependencies\n",
      "    cmake /private/var/folders/dg/j3xfsm6j68s_0jk_l6mqmh_h0000gn/T/pip-install-9z8en92h/python-libsedml_aaab0abfffd24219bdc012bcef85aa49/submodules/libSBML-dependencies -DCMAKE_BUILD_TYPE=Release -DCMAKE_OSX_ARCHITECTURES=x86_64 -DCMAKE_INSTALL_PREFIX=/private/var/folders/dg/j3xfsm6j68s_0jk_l6mqmh_h0000gn/T/pip-install-9z8en92h/python-libsedml_aaab0abfffd24219bdc012bcef85aa49/install_dependencies_macosx-10.9-x86_64 -DWITH_BZIP2=OFF -DWITH_CHECK=OFF -DWITH_EXPAT=ON -DWITH_XERCES=OFF -DWITH_ICONV=OFF -DWITH_LIBXML=OFF\n",
      "    unable to execute 'cmake': No such file or directory\n",
      "    error: command 'cmake' failed with exit status 1\n",
      "    ----------------------------------------\u001b[0m\n",
      "\u001b[31mERROR: Command errored out with exit status 1: /opt/anaconda3/bin/python -u -c 'import io, os, sys, setuptools, tokenize; sys.argv[0] = '\"'\"'/private/var/folders/dg/j3xfsm6j68s_0jk_l6mqmh_h0000gn/T/pip-install-9z8en92h/python-libsedml_aaab0abfffd24219bdc012bcef85aa49/setup.py'\"'\"'; __file__='\"'\"'/private/var/folders/dg/j3xfsm6j68s_0jk_l6mqmh_h0000gn/T/pip-install-9z8en92h/python-libsedml_aaab0abfffd24219bdc012bcef85aa49/setup.py'\"'\"';f = getattr(tokenize, '\"'\"'open'\"'\"', open)(__file__) if os.path.exists(__file__) else io.StringIO('\"'\"'from setuptools import setup; setup()'\"'\"');code = f.read().replace('\"'\"'\\r\\n'\"'\"', '\"'\"'\\n'\"'\"');f.close();exec(compile(code, __file__, '\"'\"'exec'\"'\"'))' install --record /private/var/folders/dg/j3xfsm6j68s_0jk_l6mqmh_h0000gn/T/pip-record-g_6p5t0y/install-record.txt --single-version-externally-managed --compile --install-headers /opt/anaconda3/include/python3.8/python-libsedml Check the logs for full command output.\u001b[0m\n",
      "\u001b[?25h"
     ]
    },
    {
     "ename": "ModuleNotFoundError",
     "evalue": "No module named 'tellurium'",
     "output_type": "error",
     "traceback": [
      "\u001b[0;31m---------------------------------------------------------------------------\u001b[0m",
      "\u001b[0;31mModuleNotFoundError\u001b[0m                       Traceback (most recent call last)",
      "Input \u001b[0;32mIn [9]\u001b[0m, in \u001b[0;36m<cell line: 4>\u001b[0;34m()\u001b[0m\n\u001b[1;32m      1\u001b[0m \u001b[38;5;66;03m# In a notebook cell (base is fine)\u001b[39;00m\n\u001b[1;32m      2\u001b[0m get_ipython()\u001b[38;5;241m.\u001b[39msystem(\u001b[38;5;124m'\u001b[39m\u001b[38;5;124mpip install tellurium\u001b[39m\u001b[38;5;124m'\u001b[39m)\n\u001b[0;32m----> 4\u001b[0m \u001b[38;5;28;01mimport\u001b[39;00m \u001b[38;5;21;01mtellurium\u001b[39;00m \u001b[38;5;28;01mas\u001b[39;00m \u001b[38;5;21;01mte\u001b[39;00m\n\u001b[1;32m      5\u001b[0m rr \u001b[38;5;241m=\u001b[39m te\u001b[38;5;241m.\u001b[39mloadSBMLModel(\u001b[38;5;124m\"\u001b[39m\u001b[38;5;124mchen2004_biomd56.xml\u001b[39m\u001b[38;5;124m\"\u001b[39m)   \u001b[38;5;66;03m# the file you downloaded\u001b[39;00m\n\u001b[1;32m      6\u001b[0m result \u001b[38;5;241m=\u001b[39m rr\u001b[38;5;241m.\u001b[39msimulate(\u001b[38;5;241m0\u001b[39m, \u001b[38;5;241m200\u001b[39m, \u001b[38;5;241m2001\u001b[39m)\n",
      "\u001b[0;31mModuleNotFoundError\u001b[0m: No module named 'tellurium'"
     ]
    }
   ],
   "source": [
    "# In a notebook cell (base is fine)\n",
    "!pip install tellurium\n",
    "\n",
    "import tellurium as te\n",
    "rr = te.loadSBMLModel(\"chen2004_biomd56.xml\")   # the file you downloaded\n",
    "result = rr.simulate(0, 200, 2001)\n",
    "rr.plot(result)\n"
   ]
  },
  {
   "cell_type": "markdown",
   "metadata": {},
   "source": []
  },
  {
   "cell_type": "markdown",
   "metadata": {},
   "source": []
  },
  {
   "cell_type": "markdown",
   "metadata": {},
   "source": []
  },
  {
   "cell_type": "code",
   "execution_count": null,
   "metadata": {},
   "outputs": [],
   "source": []
  },
  {
   "cell_type": "markdown",
   "metadata": {},
   "source": []
  },
  {
   "cell_type": "code",
   "execution_count": null,
   "metadata": {},
   "outputs": [],
   "source": []
  },
  {
   "cell_type": "markdown",
   "metadata": {},
   "source": []
  },
  {
   "cell_type": "markdown",
   "metadata": {},
   "source": []
  },
  {
   "cell_type": "markdown",
   "metadata": {},
   "source": []
  },
  {
   "cell_type": "code",
   "execution_count": null,
   "metadata": {},
   "outputs": [],
   "source": []
  }
 ],
 "metadata": {
  "kernelspec": {
   "display_name": "Python 3 (ipykernel)",
   "language": "python",
   "name": "python3"
  },
  "language_info": {
   "codemirror_mode": {
    "name": "ipython",
    "version": 3
   },
   "file_extension": ".py",
   "mimetype": "text/x-python",
   "name": "python",
   "nbconvert_exporter": "python",
   "pygments_lexer": "ipython3",
   "version": "3.8.8"
  }
 },
 "nbformat": 4,
 "nbformat_minor": 1
}
